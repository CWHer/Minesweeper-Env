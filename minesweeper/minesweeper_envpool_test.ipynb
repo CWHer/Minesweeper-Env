{
 "cells": [
  {
   "cell_type": "code",
   "execution_count": null,
   "metadata": {},
   "outputs": [],
   "source": [
    "import os\n",
    "import numpy as np\n",
    "\n",
    "from icecream import ic\n",
    "from prettyprinter import pprint\n"
   ]
  },
  {
   "cell_type": "code",
   "execution_count": null,
   "metadata": {},
   "outputs": [],
   "source": [
    "from minesweeper_envpool import _MineSweeperEnvPool, _MineSweeperEnvSpec\n"
   ]
  },
  {
   "cell_type": "code",
   "execution_count": null,
   "metadata": {},
   "outputs": [],
   "source": [
    "default_conf = _MineSweeperEnvSpec._default_config_values\n",
    "pprint(default_conf)\n"
   ]
  },
  {
   "cell_type": "code",
   "execution_count": null,
   "metadata": {},
   "outputs": [],
   "source": [
    "config_keys = _MineSweeperEnvSpec._config_keys\n",
    "pprint(config_keys)\n"
   ]
  },
  {
   "cell_type": "code",
   "execution_count": null,
   "metadata": {},
   "outputs": [],
   "source": [
    "conf = _MineSweeperEnvSpec._default_config_values\n",
    "env_spec = _MineSweeperEnvSpec(conf)\n",
    "state_spec = env_spec._state_spec\n",
    "action_spec = env_spec._action_spec\n",
    "state_keys = env_spec._state_keys\n",
    "action_keys = env_spec._action_keys\n"
   ]
  },
  {
   "cell_type": "code",
   "execution_count": null,
   "metadata": {},
   "outputs": [],
   "source": [
    "pprint(state_keys)\n",
    "pprint(state_spec)"
   ]
  },
  {
   "cell_type": "code",
   "execution_count": null,
   "metadata": {},
   "outputs": [],
   "source": [
    "pprint(action_keys)\n",
    "pprint(action_spec)\n"
   ]
  },
  {
   "cell_type": "code",
   "execution_count": null,
   "metadata": {},
   "outputs": [],
   "source": [
    "action_conf = dict(zip(action_keys, action_spec))\n",
    "print(action_conf[\"action\"][-2][1])\n"
   ]
  },
  {
   "cell_type": "code",
   "execution_count": null,
   "metadata": {},
   "outputs": [],
   "source": [
    "conf = dict(\n",
    "    zip(_MineSweeperEnvSpec._config_keys,\n",
    "        _MineSweeperEnvSpec._default_config_values)\n",
    ")\n",
    "conf[\"num_envs\"] = num_envs = 1\n",
    "conf[\"batch_size\"] = batch = 1\n",
    "conf[\"num_threads\"] = 1\n",
    "env_spec = _MineSweeperEnvSpec(tuple(conf.values()))\n",
    "env = _MineSweeperEnvPool(env_spec)\n",
    "env._reset(np.arange(num_envs, dtype=np.int32))"
   ]
  },
  {
   "cell_type": "code",
   "execution_count": null,
   "metadata": {},
   "outputs": [],
   "source": [
    "state = dict(zip(state_keys, env._recv()))\n",
    "pprint(state)\n"
   ]
  },
  {
   "cell_type": "code",
   "execution_count": null,
   "metadata": {},
   "outputs": [],
   "source": [
    "action = {\n",
    "    \"env_id\": state[\"info:env_id\"],\n",
    "    \"players.env_id\": state[\"info:players.env_id\"],\n",
    "    \"players.action\": np.random.randint(\n",
    "        0, action_conf[\"action\"][-2][1], size=(batch, 1), dtype=np.int32),\n",
    "}\n",
    "pprint(tuple(action.values()))\n",
    "env._send(tuple(action.values()))\n"
   ]
  },
  {
   "cell_type": "code",
   "execution_count": null,
   "metadata": {},
   "outputs": [],
   "source": [
    "state = dict(zip(state_keys, env._recv()))\n",
    "pprint(state)"
   ]
  }
 ],
 "metadata": {
  "kernelspec": {
   "display_name": "Python 3.9.12 ('tianshou')",
   "language": "python",
   "name": "python3"
  },
  "language_info": {
   "codemirror_mode": {
    "name": "ipython",
    "version": 3
   },
   "file_extension": ".py",
   "mimetype": "text/x-python",
   "name": "python",
   "nbconvert_exporter": "python",
   "pygments_lexer": "ipython3",
   "version": "3.9.12"
  },
  "orig_nbformat": 4,
  "vscode": {
   "interpreter": {
    "hash": "da13a4173a7f6d1129bf0c2c5ad0513b1c9a828b764415bfbe2a80e5d1e42730"
   }
  }
 },
 "nbformat": 4,
 "nbformat_minor": 2
}
